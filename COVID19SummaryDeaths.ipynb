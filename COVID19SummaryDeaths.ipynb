{
 "cells": [
  {
   "cell_type": "markdown",
   "metadata": {},
   "source": [
    "<p><img alt=\"Colaboratory logo\" width=\"60px\" height=\"50px\" src=\"http://martingramatica.me/img/myNameBlack.png\" align=\"left\" hspace=\"10px\" vspace=\"0px\"></p>\n",
    "\n",
    "<h1>COVID-19 Muertes - Resumen</h1>\n",
    "\n",
    "Utilizando información recopilada por mi en base a los datos oficiales del Ministerio de la Nación Argentina y la infromación a nivel global ofrecida en https://github.com/CSSEGISandData me propuse mostrar simples gráficos para seguir y analizar la evolución de la pandemia facilmente.\n",
    "\n",
    "<strong>Gracias!!!</strong>"
   ]
  },
  {
   "cell_type": "code",
   "execution_count": null,
   "metadata": {},
   "outputs": [],
   "source": [
    "import os\n",
    "import matplotlib.pyplot as plt\n",
    "import numpy as np\n",
    "import pandas as pd \n",
    "import plotly.graph_objects as go\n",
    "\n",
    "currentDirectory = os.getcwd()\n",
    "days_margin = 18 # amount of days to analyze\n",
    "amount_of_countries = 10\n"
   ]
  },
  {
   "cell_type": "code",
   "execution_count": 1,
   "metadata": {},
   "outputs": [],
   "source": [
    "# Leemos el archivo csv con los casos\n",
    "confirmed_df = pd.read_csv(currentDirectory + \"\\\\data_world\\\\time_series_19-covid-Deaths.csv\") \n",
    "confirmed_df_arg = pd.read_csv(currentDirectory + \"\\\\data\\\\time_series_19-covid-Deaths.csv\") \n",
    "\n",
    "del confirmed_df['Lat']\n",
    "del confirmed_df['Long']\n",
    "del confirmed_df['Province/State']\n",
    "\n",
    "confirmed_df = confirmed_df.set_index('Country/Region')\n",
    "\n",
    "confirmed_df.columns = pd.to_datetime(confirmed_df.columns)\n",
    "\n",
    "\n",
    "del confirmed_df_arg['Lat']\n",
    "del confirmed_df_arg['Long']\n",
    "del confirmed_df_arg['Country/Region']\n",
    "\n",
    "confirmed_df_arg = confirmed_df_arg.set_index('Province/State')\n",
    "\n",
    "confirmed_df_arg.columns = pd.to_datetime(confirmed_df_arg.columns)"
   ]
  },
  {
   "cell_type": "markdown",
   "metadata": {},
   "source": [
    "<h2>CASOS POR PROVINCIA EN ARGENTINA</h2>"
   ]
  },
  {
   "cell_type": "code",
   "execution_count": null,
   "metadata": {
    "scrolled": true
   },
   "outputs": [],
   "source": [
    "fig=plt.figure(figsize=(18, 16), dpi= 80, facecolor='w', edgecolor='k')\n",
    "\n",
    "tot_arg = confirmed_df_arg.sum(axis=0)\n",
    "\n",
    "fig = go.Figure()\n",
    "\n",
    "fig.add_trace(go.Scatter(x=tot_arg.index, y=tot_arg, mode='lines+markers', name='Tot. Argentina'))\n",
    "\n",
    "for idx in confirmed_df_arg.index:\n",
    "    if(confirmed_df_arg.loc[idx,:].sum() > 0):\n",
    "        fig.add_trace(go.Scatter(x=confirmed_df_arg.loc[idx,:].index, y=confirmed_df_arg.loc[idx,:], mode='lines+markers', name=idx))\n",
    "fig.show()"
   ]
  },
  {
   "cell_type": "markdown",
   "metadata": {},
   "source": [
    "<h2>TOP MUNDIAL y ARGENTINA</h2>"
   ]
  },
  {
   "cell_type": "code",
   "execution_count": null,
   "metadata": {
    "scrolled": true
   },
   "outputs": [],
   "source": [
    "grouped = confirmed_df.groupby(level=0).sum()\n",
    "sorted = grouped.sort_values(by=grouped.columns[grouped.columns.size-1], ascending=False)\n",
    "\n",
    "max_val = 0\n",
    "fig = go.Figure()\n",
    "\n",
    "for i in range(0,amount_of_countries):\n",
    "    data = confirmed_df.loc[sorted.index[i],:][confirmed_df.loc[sorted.index[i],:]>0].groupby(level=0).sum()\n",
    "    if isinstance(data, pd.DataFrame):\n",
    "        data = data.loc[sorted.index[i],:]\n",
    "    \n",
    "    if i == 0:\n",
    "        max_val = data.max()\n",
    "    \n",
    "    data.reset_index(drop=True, inplace=True)\n",
    "    \n",
    "    fig.add_trace(go.Scatter(x=data.index, y=data, mode='lines+markers', name=sorted.index[i]))\n",
    "\n",
    "\n",
    "arg = confirmed_df.loc['Argentina',:][confirmed_df.loc['Argentina',:]>0]\n",
    "arg.reset_index(drop=True, inplace=True)\n",
    "\n",
    "fig.add_trace(go.Scatter(x=arg.index, y=arg, mode='lines+markers', name='Argentina'))\n",
    "\n",
    "fig.show()"
   ]
  },
  {
   "cell_type": "code",
   "execution_count": null,
   "metadata": {},
   "outputs": [],
   "source": [
    "from IPython.display import HTML\n",
    "\n",
    "HTML('''<script>\n",
    "code_show=true; \n",
    "function code_toggle() {\n",
    " if (code_show){\n",
    " $('div.input').hide();\n",
    " } else {\n",
    " $('div.input').show();\n",
    " }\n",
    " code_show = !code_show\n",
    "} \n",
    "$( document ).ready(code_toggle);\n",
    "</script>\n",
    "<form action=\"javascript:code_toggle()\"><input type=\"submit\" value=\"Click here to toggle on/off the raw code.\"></form>''')"
   ]
  }
 ],
 "metadata": {
  "kernelspec": {
   "display_name": "Python 3",
   "language": "python",
   "name": "python3"
  },
  "language_info": {
   "codemirror_mode": {
    "name": "ipython",
    "version": 3
   },
   "file_extension": ".py",
   "mimetype": "text/x-python",
   "name": "python",
   "nbconvert_exporter": "python",
   "pygments_lexer": "ipython3",
   "version": "3.6.10"
  }
 },
 "nbformat": 4,
 "nbformat_minor": 4
}
